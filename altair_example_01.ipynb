{
 "cells": [
  {
   "cell_type": "code",
   "execution_count": 27,
   "metadata": {
    "pycharm": {
     "name": "#%%\n"
    }
   },
   "outputs": [],
   "source": [
    "import pandas as pd\n",
    "import altair as alt\n",
    "\n",
    "from vega_datasets import data as vega_data"
   ]
  },
  {
   "cell_type": "code",
   "execution_count": 28,
   "metadata": {
    "pycharm": {
     "name": "#%%\n"
    }
   },
   "outputs": [],
   "source": [
    "df = pd.DataFrame({'a': list('CCCDDDEEE'),\n",
    "                     'b': [2, 7, 4, 1, 2, 6, 8, 4, 7]})"
   ]
  },
  {
   "cell_type": "code",
   "execution_count": 29,
   "metadata": {
    "pycharm": {
     "name": "#%%\n"
    }
   },
   "outputs": [
    {
     "data": {
      "text/html": [
       "\n",
       "<div id=\"altair-viz-ddda6adadeb148be95340555c4e91e8e\"></div>\n",
       "<script type=\"text/javascript\">\n",
       "  (function(spec, embedOpt){\n",
       "    let outputDiv = document.currentScript.previousElementSibling;\n",
       "    if (outputDiv.id !== \"altair-viz-ddda6adadeb148be95340555c4e91e8e\") {\n",
       "      outputDiv = document.getElementById(\"altair-viz-ddda6adadeb148be95340555c4e91e8e\");\n",
       "    }\n",
       "    const paths = {\n",
       "      \"vega\": \"https://cdn.jsdelivr.net/npm//vega@5?noext\",\n",
       "      \"vega-lib\": \"https://cdn.jsdelivr.net/npm//vega-lib?noext\",\n",
       "      \"vega-lite\": \"https://cdn.jsdelivr.net/npm//vega-lite@4.8.1?noext\",\n",
       "      \"vega-embed\": \"https://cdn.jsdelivr.net/npm//vega-embed@6?noext\",\n",
       "    };\n",
       "\n",
       "    function loadScript(lib) {\n",
       "      return new Promise(function(resolve, reject) {\n",
       "        var s = document.createElement('script');\n",
       "        s.src = paths[lib];\n",
       "        s.async = true;\n",
       "        s.onload = () => resolve(paths[lib]);\n",
       "        s.onerror = () => reject(`Error loading script: ${paths[lib]}`);\n",
       "        document.getElementsByTagName(\"head\")[0].appendChild(s);\n",
       "      });\n",
       "    }\n",
       "\n",
       "    function showError(err) {\n",
       "      outputDiv.innerHTML = `<div class=\"error\" style=\"color:red;\">${err}</div>`;\n",
       "      throw err;\n",
       "    }\n",
       "\n",
       "    function displayChart(vegaEmbed) {\n",
       "      vegaEmbed(outputDiv, spec, embedOpt)\n",
       "        .catch(err => showError(`Javascript Error: ${err.message}<br>This usually means there's a typo in your chart specification. See the javascript console for the full traceback.`));\n",
       "    }\n",
       "\n",
       "    if(typeof define === \"function\" && define.amd) {\n",
       "      requirejs.config({paths});\n",
       "      require([\"vega-embed\"], displayChart, err => showError(`Error loading script: ${err.message}`));\n",
       "    } else if (typeof vegaEmbed === \"function\") {\n",
       "      displayChart(vegaEmbed);\n",
       "    } else {\n",
       "      loadScript(\"vega\")\n",
       "        .then(() => loadScript(\"vega-lite\"))\n",
       "        .then(() => loadScript(\"vega-embed\"))\n",
       "        .catch(showError)\n",
       "        .then(() => displayChart(vegaEmbed));\n",
       "    }\n",
       "  })({\"config\": {\"view\": {\"continuousWidth\": 400, \"continuousHeight\": 300}}, \"data\": {\"name\": \"data-347f1284ea3247c0f55cb966abbdd2d8\"}, \"mark\": {\"type\": \"circle\", \"color\": \"firebrick\"}, \"encoding\": {\"x\": {\"type\": \"quantitative\", \"field\": \"b\"}, \"y\": {\"type\": \"nominal\", \"field\": \"a\", \"title\": \"category\"}}, \"$schema\": \"https://vega.github.io/schema/vega-lite/v4.8.1.json\", \"datasets\": {\"data-347f1284ea3247c0f55cb966abbdd2d8\": [{\"a\": \"C\", \"b\": 2}, {\"a\": \"C\", \"b\": 7}, {\"a\": \"C\", \"b\": 4}, {\"a\": \"D\", \"b\": 1}, {\"a\": \"D\", \"b\": 2}, {\"a\": \"D\", \"b\": 6}, {\"a\": \"E\", \"b\": 8}, {\"a\": \"E\", \"b\": 4}, {\"a\": \"E\", \"b\": 7}]}}, {\"mode\": \"vega-lite\"});\n",
       "</script>"
      ],
      "text/plain": [
       "alt.Chart(...)"
      ]
     },
     "execution_count": 29,
     "metadata": {},
     "output_type": "execute_result"
    }
   ],
   "source": [
    "alt.Chart(df).mark_circle(color='firebrick').encode(     \n",
    "   alt.Y('a', title='category'),     \n",
    "   alt.X('b') \n",
    ")"
   ]
  },
  {
   "cell_type": "code",
   "execution_count": 30,
   "metadata": {
    "pycharm": {
     "name": "#%%\n"
    }
   },
   "outputs": [
    {
     "data": {
      "text/html": [
       "\n",
       "<div id=\"altair-viz-6e827b556f3a4e2cbc4ebf610c5b42e6\"></div>\n",
       "<script type=\"text/javascript\">\n",
       "  (function(spec, embedOpt){\n",
       "    let outputDiv = document.currentScript.previousElementSibling;\n",
       "    if (outputDiv.id !== \"altair-viz-6e827b556f3a4e2cbc4ebf610c5b42e6\") {\n",
       "      outputDiv = document.getElementById(\"altair-viz-6e827b556f3a4e2cbc4ebf610c5b42e6\");\n",
       "    }\n",
       "    const paths = {\n",
       "      \"vega\": \"https://cdn.jsdelivr.net/npm//vega@5?noext\",\n",
       "      \"vega-lib\": \"https://cdn.jsdelivr.net/npm//vega-lib?noext\",\n",
       "      \"vega-lite\": \"https://cdn.jsdelivr.net/npm//vega-lite@4.8.1?noext\",\n",
       "      \"vega-embed\": \"https://cdn.jsdelivr.net/npm//vega-embed@6?noext\",\n",
       "    };\n",
       "\n",
       "    function loadScript(lib) {\n",
       "      return new Promise(function(resolve, reject) {\n",
       "        var s = document.createElement('script');\n",
       "        s.src = paths[lib];\n",
       "        s.async = true;\n",
       "        s.onload = () => resolve(paths[lib]);\n",
       "        s.onerror = () => reject(`Error loading script: ${paths[lib]}`);\n",
       "        document.getElementsByTagName(\"head\")[0].appendChild(s);\n",
       "      });\n",
       "    }\n",
       "\n",
       "    function showError(err) {\n",
       "      outputDiv.innerHTML = `<div class=\"error\" style=\"color:red;\">${err}</div>`;\n",
       "      throw err;\n",
       "    }\n",
       "\n",
       "    function displayChart(vegaEmbed) {\n",
       "      vegaEmbed(outputDiv, spec, embedOpt)\n",
       "        .catch(err => showError(`Javascript Error: ${err.message}<br>This usually means there's a typo in your chart specification. See the javascript console for the full traceback.`));\n",
       "    }\n",
       "\n",
       "    if(typeof define === \"function\" && define.amd) {\n",
       "      requirejs.config({paths});\n",
       "      require([\"vega-embed\"], displayChart, err => showError(`Error loading script: ${err.message}`));\n",
       "    } else if (typeof vegaEmbed === \"function\") {\n",
       "      displayChart(vegaEmbed);\n",
       "    } else {\n",
       "      loadScript(\"vega\")\n",
       "        .then(() => loadScript(\"vega-lite\"))\n",
       "        .then(() => loadScript(\"vega-embed\"))\n",
       "        .catch(showError)\n",
       "        .then(() => displayChart(vegaEmbed));\n",
       "    }\n",
       "  })({\"config\": {\"view\": {\"continuousWidth\": 400, \"continuousHeight\": 300}}, \"data\": {\"name\": \"data-347f1284ea3247c0f55cb966abbdd2d8\"}, \"mark\": {\"type\": \"bar\", \"color\": \"#8080FF\"}, \"encoding\": {\"x\": {\"type\": \"quantitative\", \"aggregate\": \"average\", \"field\": \"b\", \"title\": \"avg(b) by category\"}, \"y\": {\"type\": \"nominal\", \"field\": \"a\", \"title\": \"category\"}}, \"$schema\": \"https://vega.github.io/schema/vega-lite/v4.8.1.json\", \"datasets\": {\"data-347f1284ea3247c0f55cb966abbdd2d8\": [{\"a\": \"C\", \"b\": 2}, {\"a\": \"C\", \"b\": 7}, {\"a\": \"C\", \"b\": 4}, {\"a\": \"D\", \"b\": 1}, {\"a\": \"D\", \"b\": 2}, {\"a\": \"D\", \"b\": 6}, {\"a\": \"E\", \"b\": 8}, {\"a\": \"E\", \"b\": 4}, {\"a\": \"E\", \"b\": 7}]}}, {\"mode\": \"vega-lite\"});\n",
       "</script>"
      ],
      "text/plain": [
       "alt.Chart(...)"
      ]
     },
     "execution_count": 30,
     "metadata": {},
     "output_type": "execute_result"
    }
   ],
   "source": [
    "alt.Chart(df).mark_bar(color='#8080FF').encode(     \n",
    "   alt.Y('a', title='category'),     \n",
    "   alt.X('average(b)', \n",
    "   title='avg(b) by category') \n",
    ")"
   ]
  },
  {
   "cell_type": "code",
   "execution_count": 31,
   "metadata": {
    "pycharm": {
     "name": "#%%\n"
    }
   },
   "outputs": [],
   "source": [
    "df = pd.DataFrame({'region': ['east', 'west', 'north', 'south'],\n",
    "                     'gdp': [2000, 3245, 3421, 2099]})"
   ]
  },
  {
   "cell_type": "code",
   "execution_count": 32,
   "metadata": {
    "pycharm": {
     "name": "#%%\n"
    }
   },
   "outputs": [
    {
     "data": {
      "text/html": [
       "\n",
       "<div id=\"altair-viz-80e5c55a3da240d3ae64672a5b89dd51\"></div>\n",
       "<script type=\"text/javascript\">\n",
       "  (function(spec, embedOpt){\n",
       "    let outputDiv = document.currentScript.previousElementSibling;\n",
       "    if (outputDiv.id !== \"altair-viz-80e5c55a3da240d3ae64672a5b89dd51\") {\n",
       "      outputDiv = document.getElementById(\"altair-viz-80e5c55a3da240d3ae64672a5b89dd51\");\n",
       "    }\n",
       "    const paths = {\n",
       "      \"vega\": \"https://cdn.jsdelivr.net/npm//vega@5?noext\",\n",
       "      \"vega-lib\": \"https://cdn.jsdelivr.net/npm//vega-lib?noext\",\n",
       "      \"vega-lite\": \"https://cdn.jsdelivr.net/npm//vega-lite@4.8.1?noext\",\n",
       "      \"vega-embed\": \"https://cdn.jsdelivr.net/npm//vega-embed@6?noext\",\n",
       "    };\n",
       "\n",
       "    function loadScript(lib) {\n",
       "      return new Promise(function(resolve, reject) {\n",
       "        var s = document.createElement('script');\n",
       "        s.src = paths[lib];\n",
       "        s.async = true;\n",
       "        s.onload = () => resolve(paths[lib]);\n",
       "        s.onerror = () => reject(`Error loading script: ${paths[lib]}`);\n",
       "        document.getElementsByTagName(\"head\")[0].appendChild(s);\n",
       "      });\n",
       "    }\n",
       "\n",
       "    function showError(err) {\n",
       "      outputDiv.innerHTML = `<div class=\"error\" style=\"color:red;\">${err}</div>`;\n",
       "      throw err;\n",
       "    }\n",
       "\n",
       "    function displayChart(vegaEmbed) {\n",
       "      vegaEmbed(outputDiv, spec, embedOpt)\n",
       "        .catch(err => showError(`Javascript Error: ${err.message}<br>This usually means there's a typo in your chart specification. See the javascript console for the full traceback.`));\n",
       "    }\n",
       "\n",
       "    if(typeof define === \"function\" && define.amd) {\n",
       "      requirejs.config({paths});\n",
       "      require([\"vega-embed\"], displayChart, err => showError(`Error loading script: ${err.message}`));\n",
       "    } else if (typeof vegaEmbed === \"function\") {\n",
       "      displayChart(vegaEmbed);\n",
       "    } else {\n",
       "      loadScript(\"vega\")\n",
       "        .then(() => loadScript(\"vega-lite\"))\n",
       "        .then(() => loadScript(\"vega-embed\"))\n",
       "        .catch(showError)\n",
       "        .then(() => displayChart(vegaEmbed));\n",
       "    }\n",
       "  })({\"config\": {\"view\": {\"continuousWidth\": 400, \"continuousHeight\": 300}}, \"data\": {\"name\": \"data-c67a7f8b1d0e1d03d2da36c2567b11b4\"}, \"mark\": \"bar\", \"encoding\": {\"x\": {\"type\": \"nominal\", \"field\": \"region\"}, \"y\": {\"type\": \"quantitative\", \"field\": \"gdp\"}}, \"height\": 300, \"width\": 800, \"$schema\": \"https://vega.github.io/schema/vega-lite/v4.8.1.json\", \"datasets\": {\"data-c67a7f8b1d0e1d03d2da36c2567b11b4\": [{\"region\": \"east\", \"gdp\": 2000}, {\"region\": \"west\", \"gdp\": 3245}, {\"region\": \"north\", \"gdp\": 3421}, {\"region\": \"south\", \"gdp\": 2099}]}}, {\"mode\": \"vega-lite\"});\n",
       "</script>"
      ],
      "text/plain": [
       "alt.Chart(...)"
      ]
     },
     "execution_count": 32,
     "metadata": {},
     "output_type": "execute_result"
    }
   ],
   "source": [
    "alt.Chart(df).mark_bar().encode(     \n",
    "   alt.Y('gdp'),     \n",
    "   alt.X('region') \n",
    ").properties(\n",
    "    width=800,\n",
    "    height=300\n",
    ")"
   ]
  },
  {
   "cell_type": "code",
   "execution_count": 33,
   "metadata": {
    "pycharm": {
     "name": "#%%\n"
    }
   },
   "outputs": [],
   "source": [
    "dataObject = {'Name':['Tom', 'Jack', 'Steve', 'Ricky'],'Age':[28,34,29,42]}\n",
    "df = pd.DataFrame(dataObject)"
   ]
  },
  {
   "cell_type": "code",
   "execution_count": 34,
   "metadata": {},
   "outputs": [
    {
     "data": {
      "text/html": [
       "\n",
       "<div id=\"altair-viz-09347cfdd8d641a2a7842a9adeef1226\"></div>\n",
       "<script type=\"text/javascript\">\n",
       "  (function(spec, embedOpt){\n",
       "    let outputDiv = document.currentScript.previousElementSibling;\n",
       "    if (outputDiv.id !== \"altair-viz-09347cfdd8d641a2a7842a9adeef1226\") {\n",
       "      outputDiv = document.getElementById(\"altair-viz-09347cfdd8d641a2a7842a9adeef1226\");\n",
       "    }\n",
       "    const paths = {\n",
       "      \"vega\": \"https://cdn.jsdelivr.net/npm//vega@5?noext\",\n",
       "      \"vega-lib\": \"https://cdn.jsdelivr.net/npm//vega-lib?noext\",\n",
       "      \"vega-lite\": \"https://cdn.jsdelivr.net/npm//vega-lite@4.8.1?noext\",\n",
       "      \"vega-embed\": \"https://cdn.jsdelivr.net/npm//vega-embed@6?noext\",\n",
       "    };\n",
       "\n",
       "    function loadScript(lib) {\n",
       "      return new Promise(function(resolve, reject) {\n",
       "        var s = document.createElement('script');\n",
       "        s.src = paths[lib];\n",
       "        s.async = true;\n",
       "        s.onload = () => resolve(paths[lib]);\n",
       "        s.onerror = () => reject(`Error loading script: ${paths[lib]}`);\n",
       "        document.getElementsByTagName(\"head\")[0].appendChild(s);\n",
       "      });\n",
       "    }\n",
       "\n",
       "    function showError(err) {\n",
       "      outputDiv.innerHTML = `<div class=\"error\" style=\"color:red;\">${err}</div>`;\n",
       "      throw err;\n",
       "    }\n",
       "\n",
       "    function displayChart(vegaEmbed) {\n",
       "      vegaEmbed(outputDiv, spec, embedOpt)\n",
       "        .catch(err => showError(`Javascript Error: ${err.message}<br>This usually means there's a typo in your chart specification. See the javascript console for the full traceback.`));\n",
       "    }\n",
       "\n",
       "    if(typeof define === \"function\" && define.amd) {\n",
       "      requirejs.config({paths});\n",
       "      require([\"vega-embed\"], displayChart, err => showError(`Error loading script: ${err.message}`));\n",
       "    } else if (typeof vegaEmbed === \"function\") {\n",
       "      displayChart(vegaEmbed);\n",
       "    } else {\n",
       "      loadScript(\"vega\")\n",
       "        .then(() => loadScript(\"vega-lite\"))\n",
       "        .then(() => loadScript(\"vega-embed\"))\n",
       "        .catch(showError)\n",
       "        .then(() => displayChart(vegaEmbed));\n",
       "    }\n",
       "  })({\"config\": {\"view\": {\"continuousWidth\": 400, \"continuousHeight\": 300}}, \"data\": {\"name\": \"data-13751e22c775643ca2d691a436141937\"}, \"mark\": {\"type\": \"circle\", \"color\": \"firebrick\", \"size\": 500}, \"encoding\": {\"x\": {\"type\": \"nominal\", \"field\": \"Name\"}, \"y\": {\"type\": \"quantitative\", \"field\": \"Age\"}}, \"height\": 200, \"width\": 600, \"$schema\": \"https://vega.github.io/schema/vega-lite/v4.8.1.json\", \"datasets\": {\"data-13751e22c775643ca2d691a436141937\": [{\"Name\": \"Tom\", \"Age\": 28}, {\"Name\": \"Jack\", \"Age\": 34}, {\"Name\": \"Steve\", \"Age\": 29}, {\"Name\": \"Ricky\", \"Age\": 42}]}}, {\"mode\": \"vega-lite\"});\n",
       "</script>"
      ],
      "text/plain": [
       "alt.Chart(...)"
      ]
     },
     "execution_count": 34,
     "metadata": {},
     "output_type": "execute_result"
    }
   ],
   "source": [
    "alt.Chart(df).mark_circle(color='firebrick', size=500).encode(     \n",
    "   alt.Y('Age'),     \n",
    "   alt.X('Name') \n",
    ").properties(\n",
    "    width=600,\n",
    "    height=200\n",
    ")"
   ]
  },
  {
   "cell_type": "code",
   "execution_count": 48,
   "metadata": {},
   "outputs": [
    {
     "name": "stdout",
     "output_type": "stream",
     "text": [
      "     year  age  sex   people\n",
      "0    1850    0    1  1483789\n",
      "2    1850    5    1  1411067\n",
      "4    1850   10    1  1260099\n",
      "6    1850   15    1  1077133\n",
      "8    1850   20    1  1017281\n",
      "..    ...  ...  ...      ...\n",
      "560  2000   70    1  3792145\n",
      "562  2000   75    1  2912655\n",
      "564  2000   80    1  1902638\n",
      "566  2000   85    1   970357\n",
      "568  2000   90    1   336303\n",
      "\n",
      "[285 rows x 4 columns]\n"
     ]
    },
    {
     "data": {
      "text/html": [
       "\n",
       "<div id=\"altair-viz-763b7caa00584b99a8da176f8e53b35c\"></div>\n",
       "<script type=\"text/javascript\">\n",
       "  (function(spec, embedOpt){\n",
       "    let outputDiv = document.currentScript.previousElementSibling;\n",
       "    if (outputDiv.id !== \"altair-viz-763b7caa00584b99a8da176f8e53b35c\") {\n",
       "      outputDiv = document.getElementById(\"altair-viz-763b7caa00584b99a8da176f8e53b35c\");\n",
       "    }\n",
       "    const paths = {\n",
       "      \"vega\": \"https://cdn.jsdelivr.net/npm//vega@5?noext\",\n",
       "      \"vega-lib\": \"https://cdn.jsdelivr.net/npm//vega-lib?noext\",\n",
       "      \"vega-lite\": \"https://cdn.jsdelivr.net/npm//vega-lite@4.8.1?noext\",\n",
       "      \"vega-embed\": \"https://cdn.jsdelivr.net/npm//vega-embed@6?noext\",\n",
       "    };\n",
       "\n",
       "    function loadScript(lib) {\n",
       "      return new Promise(function(resolve, reject) {\n",
       "        var s = document.createElement('script');\n",
       "        s.src = paths[lib];\n",
       "        s.async = true;\n",
       "        s.onload = () => resolve(paths[lib]);\n",
       "        s.onerror = () => reject(`Error loading script: ${paths[lib]}`);\n",
       "        document.getElementsByTagName(\"head\")[0].appendChild(s);\n",
       "      });\n",
       "    }\n",
       "\n",
       "    function showError(err) {\n",
       "      outputDiv.innerHTML = `<div class=\"error\" style=\"color:red;\">${err}</div>`;\n",
       "      throw err;\n",
       "    }\n",
       "\n",
       "    function displayChart(vegaEmbed) {\n",
       "      vegaEmbed(outputDiv, spec, embedOpt)\n",
       "        .catch(err => showError(`Javascript Error: ${err.message}<br>This usually means there's a typo in your chart specification. See the javascript console for the full traceback.`));\n",
       "    }\n",
       "\n",
       "    if(typeof define === \"function\" && define.amd) {\n",
       "      requirejs.config({paths});\n",
       "      require([\"vega-embed\"], displayChart, err => showError(`Error loading script: ${err.message}`));\n",
       "    } else if (typeof vegaEmbed === \"function\") {\n",
       "      displayChart(vegaEmbed);\n",
       "    } else {\n",
       "      loadScript(\"vega\")\n",
       "        .then(() => loadScript(\"vega-lite\"))\n",
       "        .then(() => loadScript(\"vega-embed\"))\n",
       "        .catch(showError)\n",
       "        .then(() => displayChart(vegaEmbed));\n",
       "    }\n",
       "  })({\"config\": {\"view\": {\"continuousWidth\": 400, \"continuousHeight\": 300}}, \"data\": {\"name\": \"data-229e32bebb2d22e1bbfc34e61a075066\"}, \"mark\": {\"type\": \"circle\", \"color\": \"firebrick\"}, \"encoding\": {\"x\": {\"type\": \"quantitative\", \"field\": \"year\", \"scale\": {\"zero\": false}}, \"y\": {\"type\": \"quantitative\", \"field\": \"people\"}}, \"height\": 200, \"width\": 600, \"$schema\": \"https://vega.github.io/schema/vega-lite/v4.8.1.json\", \"datasets\": {\"data-229e32bebb2d22e1bbfc34e61a075066\": [{\"year\": 1850, \"age\": 0, \"sex\": 1, \"people\": 1483789}, {\"year\": 1850, \"age\": 5, \"sex\": 1, \"people\": 1411067}, {\"year\": 1850, \"age\": 10, \"sex\": 1, \"people\": 1260099}, {\"year\": 1850, \"age\": 15, \"sex\": 1, \"people\": 1077133}, {\"year\": 1850, \"age\": 20, \"sex\": 1, \"people\": 1017281}, {\"year\": 1850, \"age\": 25, \"sex\": 1, \"people\": 862547}, {\"year\": 1850, \"age\": 30, \"sex\": 1, \"people\": 730638}, {\"year\": 1850, \"age\": 35, \"sex\": 1, \"people\": 588487}, {\"year\": 1850, \"age\": 40, \"sex\": 1, \"people\": 475911}, {\"year\": 1850, \"age\": 45, \"sex\": 1, \"people\": 384211}, {\"year\": 1850, \"age\": 50, \"sex\": 1, \"people\": 321343}, {\"year\": 1850, \"age\": 55, \"sex\": 1, \"people\": 194080}, {\"year\": 1850, \"age\": 60, \"sex\": 1, \"people\": 174976}, {\"year\": 1850, \"age\": 65, \"sex\": 1, \"people\": 106827}, {\"year\": 1850, \"age\": 70, \"sex\": 1, \"people\": 73677}, {\"year\": 1850, \"age\": 75, \"sex\": 1, \"people\": 40834}, {\"year\": 1850, \"age\": 80, \"sex\": 1, \"people\": 23449}, {\"year\": 1850, \"age\": 85, \"sex\": 1, \"people\": 8186}, {\"year\": 1850, \"age\": 90, \"sex\": 1, \"people\": 5259}, {\"year\": 1860, \"age\": 0, \"sex\": 1, \"people\": 2120846}, {\"year\": 1860, \"age\": 5, \"sex\": 1, \"people\": 1804467}, {\"year\": 1860, \"age\": 10, \"sex\": 1, \"people\": 1612640}, {\"year\": 1860, \"age\": 15, \"sex\": 1, \"people\": 1438094}, {\"year\": 1860, \"age\": 20, \"sex\": 1, \"people\": 1351121}, {\"year\": 1860, \"age\": 25, \"sex\": 1, \"people\": 1217615}, {\"year\": 1860, \"age\": 30, \"sex\": 1, \"people\": 1043174}, {\"year\": 1860, \"age\": 35, \"sex\": 1, \"people\": 866910}, {\"year\": 1860, \"age\": 40, \"sex\": 1, \"people\": 699434}, {\"year\": 1860, \"age\": 45, \"sex\": 1, \"people\": 552404}, {\"year\": 1860, \"age\": 50, \"sex\": 1, \"people\": 456176}, {\"year\": 1860, \"age\": 55, \"sex\": 1, \"people\": 292417}, {\"year\": 1860, \"age\": 60, \"sex\": 1, \"people\": 260887}, {\"year\": 1860, \"age\": 65, \"sex\": 1, \"people\": 149331}, {\"year\": 1860, \"age\": 70, \"sex\": 1, \"people\": 98465}, {\"year\": 1860, \"age\": 75, \"sex\": 1, \"people\": 56699}, {\"year\": 1860, \"age\": 80, \"sex\": 1, \"people\": 29007}, {\"year\": 1860, \"age\": 85, \"sex\": 1, \"people\": 10434}, {\"year\": 1860, \"age\": 90, \"sex\": 1, \"people\": 7232}, {\"year\": 1870, \"age\": 0, \"sex\": 1, \"people\": 2800083}, {\"year\": 1870, \"age\": 5, \"sex\": 1, \"people\": 2428469}, {\"year\": 1870, \"age\": 10, \"sex\": 1, \"people\": 2427341}, {\"year\": 1870, \"age\": 15, \"sex\": 1, \"people\": 1958390}, {\"year\": 1870, \"age\": 20, \"sex\": 1, \"people\": 1805303}, {\"year\": 1870, \"age\": 25, \"sex\": 1, \"people\": 1509059}, {\"year\": 1870, \"age\": 30, \"sex\": 1, \"people\": 1251534}, {\"year\": 1870, \"age\": 35, \"sex\": 1, \"people\": 1185336}, {\"year\": 1870, \"age\": 40, \"sex\": 1, \"people\": 968861}, {\"year\": 1870, \"age\": 45, \"sex\": 1, \"people\": 852672}, {\"year\": 1870, \"age\": 50, \"sex\": 1, \"people\": 736387}, {\"year\": 1870, \"age\": 55, \"sex\": 1, \"people\": 486036}, {\"year\": 1870, \"age\": 60, \"sex\": 1, \"people\": 399264}, {\"year\": 1870, \"age\": 65, \"sex\": 1, \"people\": 260829}, {\"year\": 1870, \"age\": 70, \"sex\": 1, \"people\": 173364}, {\"year\": 1870, \"age\": 75, \"sex\": 1, \"people\": 86929}, {\"year\": 1870, \"age\": 80, \"sex\": 1, \"people\": 47427}, {\"year\": 1870, \"age\": 85, \"sex\": 1, \"people\": 15891}, {\"year\": 1870, \"age\": 90, \"sex\": 1, \"people\": 8649}, {\"year\": 1880, \"age\": 0, \"sex\": 1, \"people\": 3533662}, {\"year\": 1880, \"age\": 5, \"sex\": 1, \"people\": 3297503}, {\"year\": 1880, \"age\": 10, \"sex\": 1, \"people\": 2911924}, {\"year\": 1880, \"age\": 15, \"sex\": 1, \"people\": 2457734}, {\"year\": 1880, \"age\": 20, \"sex\": 1, \"people\": 2547780}, {\"year\": 1880, \"age\": 25, \"sex\": 1, \"people\": 2119393}, {\"year\": 1880, \"age\": 30, \"sex\": 1, \"people\": 1749107}, {\"year\": 1880, \"age\": 35, \"sex\": 1, \"people\": 1540772}, {\"year\": 1880, \"age\": 40, \"sex\": 1, \"people\": 1237347}, {\"year\": 1880, \"age\": 45, \"sex\": 1, \"people\": 1065973}, {\"year\": 1880, \"age\": 50, \"sex\": 1, \"people\": 964484}, {\"year\": 1880, \"age\": 55, \"sex\": 1, \"people\": 679147}, {\"year\": 1880, \"age\": 60, \"sex\": 1, \"people\": 580298}, {\"year\": 1880, \"age\": 65, \"sex\": 1, \"people\": 369398}, {\"year\": 1880, \"age\": 70, \"sex\": 1, \"people\": 255422}, {\"year\": 1880, \"age\": 75, \"sex\": 1, \"people\": 141628}, {\"year\": 1880, \"age\": 80, \"sex\": 1, \"people\": 67526}, {\"year\": 1880, \"age\": 85, \"sex\": 1, \"people\": 22437}, {\"year\": 1880, \"age\": 90, \"sex\": 1, \"people\": 10272}, {\"year\": 1900, \"age\": 0, \"sex\": 1, \"people\": 4619544}, {\"year\": 1900, \"age\": 5, \"sex\": 1, \"people\": 4465783}, {\"year\": 1900, \"age\": 10, \"sex\": 1, \"people\": 4057669}, {\"year\": 1900, \"age\": 15, \"sex\": 1, \"people\": 3774846}, {\"year\": 1900, \"age\": 20, \"sex\": 1, \"people\": 3694038}, {\"year\": 1900, \"age\": 25, \"sex\": 1, \"people\": 3389280}, {\"year\": 1900, \"age\": 30, \"sex\": 1, \"people\": 2918964}, {\"year\": 1900, \"age\": 35, \"sex\": 1, \"people\": 2633883}, {\"year\": 1900, \"age\": 40, \"sex\": 1, \"people\": 2261070}, {\"year\": 1900, \"age\": 45, \"sex\": 1, \"people\": 1868413}, {\"year\": 1900, \"age\": 50, \"sex\": 1, \"people\": 1571038}, {\"year\": 1900, \"age\": 55, \"sex\": 1, \"people\": 1161908}, {\"year\": 1900, \"age\": 60, \"sex\": 1, \"people\": 916571}, {\"year\": 1900, \"age\": 65, \"sex\": 1, \"people\": 672663}, {\"year\": 1900, \"age\": 70, \"sex\": 1, \"people\": 454747}, {\"year\": 1900, \"age\": 75, \"sex\": 1, \"people\": 268211}, {\"year\": 1900, \"age\": 80, \"sex\": 1, \"people\": 127435}, {\"year\": 1900, \"age\": 85, \"sex\": 1, \"people\": 44008}, {\"year\": 1900, \"age\": 90, \"sex\": 1, \"people\": 15164}, {\"year\": 1910, \"age\": 0, \"sex\": 1, \"people\": 5296823}, {\"year\": 1910, \"age\": 5, \"sex\": 1, \"people\": 4991803}, {\"year\": 1910, \"age\": 10, \"sex\": 1, \"people\": 4650747}, {\"year\": 1910, \"age\": 15, \"sex\": 1, \"people\": 4566154}, {\"year\": 1910, \"age\": 20, \"sex\": 1, \"people\": 4637632}, {\"year\": 1910, \"age\": 25, \"sex\": 1, \"people\": 4257755}, {\"year\": 1910, \"age\": 30, \"sex\": 1, \"people\": 3658125}, {\"year\": 1910, \"age\": 35, \"sex\": 1, \"people\": 3427518}, {\"year\": 1910, \"age\": 40, \"sex\": 1, \"people\": 2860229}, {\"year\": 1910, \"age\": 45, \"sex\": 1, \"people\": 2363801}, {\"year\": 1910, \"age\": 50, \"sex\": 1, \"people\": 2126516}, {\"year\": 1910, \"age\": 55, \"sex\": 1, \"people\": 1508358}, {\"year\": 1910, \"age\": 60, \"sex\": 1, \"people\": 1189421}, {\"year\": 1910, \"age\": 65, \"sex\": 1, \"people\": 850159}, {\"year\": 1910, \"age\": 70, \"sex\": 1, \"people\": 557936}, {\"year\": 1910, \"age\": 75, \"sex\": 1, \"people\": 322679}, {\"year\": 1910, \"age\": 80, \"sex\": 1, \"people\": 161715}, {\"year\": 1910, \"age\": 85, \"sex\": 1, \"people\": 59699}, {\"year\": 1910, \"age\": 90, \"sex\": 1, \"people\": 23929}, {\"year\": 1920, \"age\": 0, \"sex\": 1, \"people\": 5934792}, {\"year\": 1920, \"age\": 5, \"sex\": 1, \"people\": 5789008}, {\"year\": 1920, \"age\": 10, \"sex\": 1, \"people\": 5401156}, {\"year\": 1920, \"age\": 15, \"sex\": 1, \"people\": 4724365}, {\"year\": 1920, \"age\": 20, \"sex\": 1, \"people\": 4549411}, {\"year\": 1920, \"age\": 25, \"sex\": 1, \"people\": 4565066}, {\"year\": 1920, \"age\": 30, \"sex\": 1, \"people\": 4110771}, {\"year\": 1920, \"age\": 35, \"sex\": 1, \"people\": 4081543}, {\"year\": 1920, \"age\": 40, \"sex\": 1, \"people\": 3321923}, {\"year\": 1920, \"age\": 45, \"sex\": 1, \"people\": 3143891}, {\"year\": 1920, \"age\": 50, \"sex\": 1, \"people\": 2546035}, {\"year\": 1920, \"age\": 55, \"sex\": 1, \"people\": 1880975}, {\"year\": 1920, \"age\": 60, \"sex\": 1, \"people\": 1587549}, {\"year\": 1920, \"age\": 65, \"sex\": 1, \"people\": 1095956}, {\"year\": 1920, \"age\": 70, \"sex\": 1, \"people\": 714618}, {\"year\": 1920, \"age\": 75, \"sex\": 1, \"people\": 417292}, {\"year\": 1920, \"age\": 80, \"sex\": 1, \"people\": 187000}, {\"year\": 1920, \"age\": 85, \"sex\": 1, \"people\": 75991}, {\"year\": 1920, \"age\": 90, \"sex\": 1, \"people\": 22398}, {\"year\": 1930, \"age\": 0, \"sex\": 1, \"people\": 5875250}, {\"year\": 1930, \"age\": 5, \"sex\": 1, \"people\": 6542592}, {\"year\": 1930, \"age\": 10, \"sex\": 1, \"people\": 6064820}, {\"year\": 1930, \"age\": 15, \"sex\": 1, \"people\": 5709452}, {\"year\": 1930, \"age\": 20, \"sex\": 1, \"people\": 5305992}, {\"year\": 1930, \"age\": 25, \"sex\": 1, \"people\": 4929853}, {\"year\": 1930, \"age\": 30, \"sex\": 1, \"people\": 4424408}, {\"year\": 1930, \"age\": 35, \"sex\": 1, \"people\": 4576531}, {\"year\": 1930, \"age\": 40, \"sex\": 1, \"people\": 4075139}, {\"year\": 1930, \"age\": 45, \"sex\": 1, \"people\": 3633152}, {\"year\": 1930, \"age\": 50, \"sex\": 1, \"people\": 3128108}, {\"year\": 1930, \"age\": 55, \"sex\": 1, \"people\": 2434077}, {\"year\": 1930, \"age\": 60, \"sex\": 1, \"people\": 1927564}, {\"year\": 1930, \"age\": 65, \"sex\": 1, \"people\": 1397275}, {\"year\": 1930, \"age\": 70, \"sex\": 1, \"people\": 919045}, {\"year\": 1930, \"age\": 75, \"sex\": 1, \"people\": 536375}, {\"year\": 1930, \"age\": 80, \"sex\": 1, \"people\": 246708}, {\"year\": 1930, \"age\": 85, \"sex\": 1, \"people\": 88978}, {\"year\": 1930, \"age\": 90, \"sex\": 1, \"people\": 30338}, {\"year\": 1940, \"age\": 0, \"sex\": 1, \"people\": 5294628}, {\"year\": 1940, \"age\": 5, \"sex\": 1, \"people\": 5468378}, {\"year\": 1940, \"age\": 10, \"sex\": 1, \"people\": 5960416}, {\"year\": 1940, \"age\": 15, \"sex\": 1, \"people\": 6165109}, {\"year\": 1940, \"age\": 20, \"sex\": 1, \"people\": 5682414}, {\"year\": 1940, \"age\": 25, \"sex\": 1, \"people\": 5438166}, {\"year\": 1940, \"age\": 30, \"sex\": 1, \"people\": 5040048}, {\"year\": 1940, \"age\": 35, \"sex\": 1, \"people\": 4724804}, {\"year\": 1940, \"age\": 40, \"sex\": 1, \"people\": 4437392}, {\"year\": 1940, \"age\": 45, \"sex\": 1, \"people\": 4190187}, {\"year\": 1940, \"age\": 50, \"sex\": 1, \"people\": 3785735}, {\"year\": 1940, \"age\": 55, \"sex\": 1, \"people\": 2972069}, {\"year\": 1940, \"age\": 60, \"sex\": 1, \"people\": 2370232}, {\"year\": 1940, \"age\": 65, \"sex\": 1, \"people\": 1897678}, {\"year\": 1940, \"age\": 70, \"sex\": 1, \"people\": 1280023}, {\"year\": 1940, \"age\": 75, \"sex\": 1, \"people\": 713875}, {\"year\": 1940, \"age\": 80, \"sex\": 1, \"people\": 359418}, {\"year\": 1940, \"age\": 85, \"sex\": 1, \"people\": 127303}, {\"year\": 1940, \"age\": 90, \"sex\": 1, \"people\": 42263}, {\"year\": 1950, \"age\": 0, \"sex\": 1, \"people\": 8211806}, {\"year\": 1950, \"age\": 5, \"sex\": 1, \"people\": 6706601}, {\"year\": 1950, \"age\": 10, \"sex\": 1, \"people\": 5629744}, {\"year\": 1950, \"age\": 15, \"sex\": 1, \"people\": 5264129}, {\"year\": 1950, \"age\": 20, \"sex\": 1, \"people\": 5573308}, {\"year\": 1950, \"age\": 25, \"sex\": 1, \"people\": 6007254}, {\"year\": 1950, \"age\": 30, \"sex\": 1, \"people\": 5676022}, {\"year\": 1950, \"age\": 35, \"sex\": 1, \"people\": 5511364}, {\"year\": 1950, \"age\": 40, \"sex\": 1, \"people\": 5076985}, {\"year\": 1950, \"age\": 45, \"sex\": 1, \"people\": 4533177}, {\"year\": 1950, \"age\": 50, \"sex\": 1, \"people\": 4199164}, {\"year\": 1950, \"age\": 55, \"sex\": 1, \"people\": 3667351}, {\"year\": 1950, \"age\": 60, \"sex\": 1, \"people\": 3035038}, {\"year\": 1950, \"age\": 65, \"sex\": 1, \"people\": 2421234}, {\"year\": 1950, \"age\": 70, \"sex\": 1, \"people\": 1627920}, {\"year\": 1950, \"age\": 75, \"sex\": 1, \"people\": 1006530}, {\"year\": 1950, \"age\": 80, \"sex\": 1, \"people\": 511727}, {\"year\": 1950, \"age\": 85, \"sex\": 1, \"people\": 182821}, {\"year\": 1950, \"age\": 90, \"sex\": 1, \"people\": 54836}, {\"year\": 1960, \"age\": 0, \"sex\": 1, \"people\": 10374975}, {\"year\": 1960, \"age\": 5, \"sex\": 1, \"people\": 9495503}, {\"year\": 1960, \"age\": 10, \"sex\": 1, \"people\": 8563700}, {\"year\": 1960, \"age\": 15, \"sex\": 1, \"people\": 6620902}, {\"year\": 1960, \"age\": 20, \"sex\": 1, \"people\": 5268384}, {\"year\": 1960, \"age\": 25, \"sex\": 1, \"people\": 5311805}, {\"year\": 1960, \"age\": 30, \"sex\": 1, \"people\": 5801342}, {\"year\": 1960, \"age\": 35, \"sex\": 1, \"people\": 6063063}, {\"year\": 1960, \"age\": 40, \"sex\": 1, \"people\": 5657943}, {\"year\": 1960, \"age\": 45, \"sex\": 1, \"people\": 5345658}, {\"year\": 1960, \"age\": 50, \"sex\": 1, \"people\": 4763364}, {\"year\": 1960, \"age\": 55, \"sex\": 1, \"people\": 4170581}, {\"year\": 1960, \"age\": 60, \"sex\": 1, \"people\": 3405293}, {\"year\": 1960, \"age\": 65, \"sex\": 1, \"people\": 2859371}, {\"year\": 1960, \"age\": 70, \"sex\": 1, \"people\": 2115763}, {\"year\": 1960, \"age\": 75, \"sex\": 1, \"people\": 1308913}, {\"year\": 1960, \"age\": 80, \"sex\": 1, \"people\": 619923}, {\"year\": 1960, \"age\": 85, \"sex\": 1, \"people\": 253245}, {\"year\": 1960, \"age\": 90, \"sex\": 1, \"people\": 75908}, {\"year\": 1970, \"age\": 0, \"sex\": 1, \"people\": 8685121}, {\"year\": 1970, \"age\": 5, \"sex\": 1, \"people\": 10411131}, {\"year\": 1970, \"age\": 10, \"sex\": 1, \"people\": 10756403}, {\"year\": 1970, \"age\": 15, \"sex\": 1, \"people\": 9605399}, {\"year\": 1970, \"age\": 20, \"sex\": 1, \"people\": 7729202}, {\"year\": 1970, \"age\": 25, \"sex\": 1, \"people\": 6539301}, {\"year\": 1970, \"age\": 30, \"sex\": 1, \"people\": 5519879}, {\"year\": 1970, \"age\": 35, \"sex\": 1, \"people\": 5396732}, {\"year\": 1970, \"age\": 40, \"sex\": 1, \"people\": 5718538}, {\"year\": 1970, \"age\": 45, \"sex\": 1, \"people\": 5794120}, {\"year\": 1970, \"age\": 50, \"sex\": 1, \"people\": 5298312}, {\"year\": 1970, \"age\": 55, \"sex\": 1, \"people\": 4762911}, {\"year\": 1970, \"age\": 60, \"sex\": 1, \"people\": 4037643}, {\"year\": 1970, \"age\": 65, \"sex\": 1, \"people\": 3142606}, {\"year\": 1970, \"age\": 70, \"sex\": 1, \"people\": 2340826}, {\"year\": 1970, \"age\": 75, \"sex\": 1, \"people\": 1599269}, {\"year\": 1970, \"age\": 80, \"sex\": 1, \"people\": 886155}, {\"year\": 1970, \"age\": 85, \"sex\": 1, \"people\": 371123}, {\"year\": 1970, \"age\": 90, \"sex\": 1, \"people\": 186502}, {\"year\": 1980, \"age\": 0, \"sex\": 1, \"people\": 8439366}, {\"year\": 1980, \"age\": 5, \"sex\": 1, \"people\": 8680730}, {\"year\": 1980, \"age\": 10, \"sex\": 1, \"people\": 9452338}, {\"year\": 1980, \"age\": 15, \"sex\": 1, \"people\": 10698856}, {\"year\": 1980, \"age\": 20, \"sex\": 1, \"people\": 10486776}, {\"year\": 1980, \"age\": 25, \"sex\": 1, \"people\": 9624053}, {\"year\": 1980, \"age\": 30, \"sex\": 1, \"people\": 8705835}, {\"year\": 1980, \"age\": 35, \"sex\": 1, \"people\": 6852069}, {\"year\": 1980, \"age\": 40, \"sex\": 1, \"people\": 5692148}, {\"year\": 1980, \"age\": 45, \"sex\": 1, \"people\": 5342469}, {\"year\": 1980, \"age\": 50, \"sex\": 1, \"people\": 5603709}, {\"year\": 1980, \"age\": 55, \"sex\": 1, \"people\": 5485098}, {\"year\": 1980, \"age\": 60, \"sex\": 1, \"people\": 4696140}, {\"year\": 1980, \"age\": 65, \"sex\": 1, \"people\": 3893510}, {\"year\": 1980, \"age\": 70, \"sex\": 1, \"people\": 2857774}, {\"year\": 1980, \"age\": 75, \"sex\": 1, \"people\": 1840438}, {\"year\": 1980, \"age\": 80, \"sex\": 1, \"people\": 1012886}, {\"year\": 1980, \"age\": 85, \"sex\": 1, \"people\": 472338}, {\"year\": 1980, \"age\": 90, \"sex\": 1, \"people\": 204148}, {\"year\": 1990, \"age\": 0, \"sex\": 1, \"people\": 9307465}, {\"year\": 1990, \"age\": 5, \"sex\": 1, \"people\": 9274732}, {\"year\": 1990, \"age\": 10, \"sex\": 1, \"people\": 8782542}, {\"year\": 1990, \"age\": 15, \"sex\": 1, \"people\": 9020572}, {\"year\": 1990, \"age\": 20, \"sex\": 1, \"people\": 9436188}, {\"year\": 1990, \"age\": 25, \"sex\": 1, \"people\": 10658027}, {\"year\": 1990, \"age\": 30, \"sex\": 1, \"people\": 11028712}, {\"year\": 1990, \"age\": 35, \"sex\": 1, \"people\": 9853933}, {\"year\": 1990, \"age\": 40, \"sex\": 1, \"people\": 8712632}, {\"year\": 1990, \"age\": 45, \"sex\": 1, \"people\": 6848082}, {\"year\": 1990, \"age\": 50, \"sex\": 1, \"people\": 5553992}, {\"year\": 1990, \"age\": 55, \"sex\": 1, \"people\": 4981670}, {\"year\": 1990, \"age\": 60, \"sex\": 1, \"people\": 4953822}, {\"year\": 1990, \"age\": 65, \"sex\": 1, \"people\": 4538398}, {\"year\": 1990, \"age\": 70, \"sex\": 1, \"people\": 3429420}, {\"year\": 1990, \"age\": 75, \"sex\": 1, \"people\": 2344932}, {\"year\": 1990, \"age\": 80, \"sex\": 1, \"people\": 1342996}, {\"year\": 1990, \"age\": 85, \"sex\": 1, \"people\": 588790}, {\"year\": 1990, \"age\": 90, \"sex\": 1, \"people\": 238459}, {\"year\": 2000, \"age\": 0, \"sex\": 1, \"people\": 9735380}, {\"year\": 2000, \"age\": 5, \"sex\": 1, \"people\": 10552146}, {\"year\": 2000, \"age\": 10, \"sex\": 1, \"people\": 10563233}, {\"year\": 2000, \"age\": 15, \"sex\": 1, \"people\": 10237419}, {\"year\": 2000, \"age\": 20, \"sex\": 1, \"people\": 9731315}, {\"year\": 2000, \"age\": 25, \"sex\": 1, \"people\": 9659493}, {\"year\": 2000, \"age\": 30, \"sex\": 1, \"people\": 10205879}, {\"year\": 2000, \"age\": 35, \"sex\": 1, \"people\": 11475182}, {\"year\": 2000, \"age\": 40, \"sex\": 1, \"people\": 11320252}, {\"year\": 2000, \"age\": 45, \"sex\": 1, \"people\": 9925006}, {\"year\": 2000, \"age\": 50, \"sex\": 1, \"people\": 8507934}, {\"year\": 2000, \"age\": 55, \"sex\": 1, \"people\": 6459082}, {\"year\": 2000, \"age\": 60, \"sex\": 1, \"people\": 5123399}, {\"year\": 2000, \"age\": 65, \"sex\": 1, \"people\": 4453623}, {\"year\": 2000, \"age\": 70, \"sex\": 1, \"people\": 3792145}, {\"year\": 2000, \"age\": 75, \"sex\": 1, \"people\": 2912655}, {\"year\": 2000, \"age\": 80, \"sex\": 1, \"people\": 1902638}, {\"year\": 2000, \"age\": 85, \"sex\": 1, \"people\": 970357}, {\"year\": 2000, \"age\": 90, \"sex\": 1, \"people\": 336303}]}}, {\"mode\": \"vega-lite\"});\n",
       "</script>"
      ],
      "text/plain": [
       "alt.Chart(...)"
      ]
     },
     "execution_count": 48,
     "metadata": {},
     "output_type": "execute_result"
    }
   ],
   "source": [
    "df = pd.read_json(vega_data.population.url)\n",
    "\n",
    "is_male = df['sex']==1\n",
    "df_male = df[is_male]\n",
    "print(df_male)\n",
    "\n",
    "alt.Chart(df_male).mark_circle(color='firebrick').encode(     \n",
    "   alt.Y('people'),     \n",
    "   alt.X('year', scale=alt.Scale(zero=False))\n",
    ").properties(\n",
    "    width=600,\n",
    "    height=200\n",
    ")"
   ]
  },
  {
   "cell_type": "code",
   "execution_count": null,
   "metadata": {},
   "outputs": [],
   "source": []
  }
 ],
 "metadata": {
  "kernelspec": {
   "display_name": "Python 3",
   "language": "python",
   "name": "python3"
  },
  "language_info": {
   "codemirror_mode": {
    "name": "ipython",
    "version": 3
   },
   "file_extension": ".py",
   "mimetype": "text/x-python",
   "name": "python",
   "nbconvert_exporter": "python",
   "pygments_lexer": "ipython3",
   "version": "3.8.6"
  },
  "pycharm": {
   "stem_cell": {
    "cell_type": "raw",
    "metadata": {
     "collapsed": false
    },
    "source": []
   }
  }
 },
 "nbformat": 4,
 "nbformat_minor": 4
}
